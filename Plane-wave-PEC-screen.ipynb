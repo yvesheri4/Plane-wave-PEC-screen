{
 "cells": [
  {
   "cell_type": "markdown",
   "metadata": {},
   "source": [
    "## Advanced Electromagnetism -  Plane wave on a circular aperture in a PEC ground screen simulation\n",
    "\n",
    "### Yves HERI\n",
    "\n",
    "#### Michigan State Univeristy"
   ]
  },
  {
   "cell_type": "markdown",
   "metadata": {},
   "source": [
    "___"
   ]
  },
  {
   "cell_type": "markdown",
   "metadata": {},
   "source": [
    "The far zone electric field produced by a plane wave impinging on a circular aperture in a PEC ground screen. The analysis in this notebook are based on this normalized magnitude of the electric field given by\n",
    "\n",
    "\\begin{equation}\n",
    "        |{E}|_N \\propto \\left(\\frac{a/\\lambda}{\\sqrt{\\left(\\frac{x}{\\lambda}\\right)^2+\\left(\\frac{y}{\\lambda}\\right)^2+\\left(\\frac{d}{\\lambda}\\right)^2}}\\right)\\Bigg|\\frac{J_1\\left[2\\pi (a/\\lambda)\\sin\\theta\n",
    "    \\right]}{\\sin\\theta}\\Bigg|\\sqrt{\\cos^2 \\phi+\\cos^2\\theta\\sin^2\\phi }\n",
    "\\end{equation}\n",
    "\n",
    "where the expressions of  $\\theta$ is \n",
    "\n",
    "\\begin{equation}\n",
    "    \\theta = \\frac{d/\\lambda}{\\sqrt{\\left(\\frac{x}{\\lambda}\\right)^2+\\left(\\frac{y}{\\lambda}\\right)^2+\\left(\\frac{d}{\\lambda}\\right)^2}}\n",
    "\\end{equation}\n",
    "\n",
    "and $\\phi$ are given \n",
    "\n",
    "\\begin{equation}\n",
    "    \\phi=\\text{sign}(y/\\lambda)\\frac{x/\\lambda}{\\sqrt{\\left(\\frac{x}{\\lambda}\\right)^2+\\left(\\frac{y}{\\lambda}\\right)^2}}\n",
    "\\end{equation}"
   ]
  },
  {
   "cell_type": "markdown",
   "metadata": {},
   "source": [
    "___"
   ]
  },
  {
   "cell_type": "markdown",
   "metadata": {},
   "source": [
    "#### Import Librairies "
   ]
  },
  {
   "cell_type": "code",
   "execution_count": null,
   "metadata": {},
   "outputs": [],
   "source": [
    "import numpy as np                     # For mathematical function \n",
    "import matplotlib.pyplot as plt        # For plotting \n",
    "from matplotlib.pyplot import figure\n",
    "import seaborn as sns\n",
    "from scipy.integrate import quad         # For Numerical integration \n",
    "from scipy.special import jv          # Bessel's Function\n",
    "sns.set_context(\"paper\",font_scale = 1.4)   # Plot style customization\n",
    "from numpy.lib import meshgrid"
   ]
  },
  {
   "cell_type": "markdown",
   "metadata": {},
   "source": [
    "#### Convert cartesian to spherical coordinates ####"
   ]
  },
  {
   "cell_type": "code",
   "execution_count": null,
   "metadata": {},
   "outputs": [],
   "source": [
    "def Cart_to_Spher(pt):\n",
    "\n",
    "    x,y = meshgrid(pt[0],pt[1])\n",
    "    z = pt[2]\n",
    "\n",
    "    rho = np.sqrt(x**2 + y**2 + z**2)\n",
    "    theta = np.arccos(z/rho)\n",
    "    phi = np.sign(y)*np.arccos(x/(np.sqrt(x**2+y**2)))\n",
    "\n",
    "    # if np.isnan(phi):\n",
    "    #   phi = 0  \n",
    "\n",
    "    return rho,theta,phi"
   ]
  },
  {
   "cell_type": "markdown",
   "metadata": {},
   "source": [
    "#### Bessel's function's argument"
   ]
  },
  {
   "cell_type": "code",
   "execution_count": null,
   "metadata": {},
   "outputs": [],
   "source": [
    "arg_Bes = lambda a,theta: 2*np.pi*a*np.sin(theta) "
   ]
  },
  {
   "cell_type": "markdown",
   "metadata": {},
   "source": [
    "#### Trigonometric terms "
   ]
  },
  {
   "cell_type": "code",
   "execution_count": null,
   "metadata": {},
   "outputs": [],
   "source": [
    "trigo = lambda theta,phi: np.sqrt(np.cos(phi)**2+(np.cos(theta)**2)*(np.sin(phi)**2))"
   ]
  },
  {
   "cell_type": "markdown",
   "metadata": {},
   "source": [
    "### Results "
   ]
  },
  {
   "cell_type": "code",
   "execution_count": null,
   "metadata": {
    "colab": {
     "base_uri": "https://localhost:8080/",
     "height": 1000
    },
    "id": "L3yyJF5cWL1n",
    "outputId": "69c59a03-78c4-4378-ce47-ef04d9d933b7"
   },
   "outputs": [],
   "source": [
    "\n",
    "#### Cases ####\n",
    "\n",
    "case_1 = [100,10]\n",
    "case_2 = [10,10]\n",
    "case_3 = [10,1]\n",
    "case_4 = [1,1]\n",
    "\n",
    "cases = (case_1,case_2,case_3,case_4)\n",
    "\n",
    "##### Define grid range cartesian coordinates #####\n",
    "\n",
    "x_lambda = np.linspace(-10,10,1000)\n",
    "y_lambda = np.linspace(-10,10,1000)\n",
    "\n",
    "#### Results Magnitude of E normalized ####\n",
    "\n",
    "def E_magnitude(a,pts):\n",
    "    rho,theta,phi = Cart_to_Spher(pts)\n",
    "    argument_Bessel = arg_Bes(a,theta)\n",
    "    trigo_term = trigo(theta,phi)\n",
    "\n",
    "    return (a/rho)*trigo_term*abs(jv(1,argument_Bessel)/np.sin(theta))\n",
    "\n",
    "for c in cases:\n",
    "    z = c[0]\n",
    "    a = c[1]\n",
    "\n",
    "    points = [x_lambda,y_lambda,z]\n",
    "\n",
    "    E_sol = E_magnitude(a,points)\n",
    "\n",
    "    E_sol_norm = E_sol / np.max(E_sol)\n",
    "\n",
    "    figure(figsize=(4, 4), dpi=100)\n",
    "    plt.imshow(E_sol_norm,interpolation='gaussian', origin='lower',extent=[-10,10,-10,10],cmap='gray')\n",
    "    plt.colorbar()\n",
    "    plt.title(f'$d/\\lambda$={z} and $a/\\lambda$={a}')\n",
    "    plt.xlabel('$x/\\lambda$')\n",
    "    plt.ylabel('$y/\\lambda$')\n",
    "    plt.show()"
   ]
  },
  {
   "cell_type": "markdown",
   "metadata": {},
   "source": [
    "___"
   ]
  }
 ],
 "metadata": {
  "colab": {
   "provenance": []
  },
  "kernelspec": {
   "display_name": "Python 3 (ipykernel)",
   "language": "python",
   "name": "python3"
  },
  "language_info": {
   "codemirror_mode": {
    "name": "ipython",
    "version": 3
   },
   "file_extension": ".py",
   "mimetype": "text/x-python",
   "name": "python",
   "nbconvert_exporter": "python",
   "pygments_lexer": "ipython3",
   "version": "3.8.16"
  }
 },
 "nbformat": 4,
 "nbformat_minor": 1
}
